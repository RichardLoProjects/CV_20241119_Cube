{
 "cells": [
  {
   "cell_type": "code",
   "execution_count": 1,
   "metadata": {},
   "outputs": [],
   "source": [
    "class ColourEnum:\n",
    "    W, B, R, G, O, Y = tuple(range(6))\n",
    "    to_str = {0:'W', 1:'B', 2:'R', 3:'G', 4:'O', 5:'Y'}\n",
    "\n",
    "class RubiksCube:\n",
    "    def __init__(self) -> None:\n",
    "        self.reset()\n",
    "    def reset(self) -> None:\n",
    "        self._state:dict = {\n",
    "            'U': [[ColourEnum.W for _ in range(3)] for _ in range(3)],\n",
    "            'F': [[ColourEnum.B for _ in range(3)] for _ in range(3)],\n",
    "            'L': [[ColourEnum.R for _ in range(3)] for _ in range(3)],\n",
    "            'B': [[ColourEnum.G for _ in range(3)] for _ in range(3)],\n",
    "            'R': [[ColourEnum.O for _ in range(3)] for _ in range(3)],\n",
    "            'D': [[ColourEnum.Y for _ in range(3)] for _ in range(3)]\n",
    "        }\n",
    "    def _rot_array_clock90(self, array:list) -> list:\n",
    "        return [[array[2-i][j] for i in range(3)] for j in range(3)]\n",
    "    def _rot_array_anticlock90(self, array:list) -> list:\n",
    "        return [[array[i][2-j] for i in range(3)] for j in range(3)]\n",
    "    def _turn_x(self, pos:int, clockwise_:bool) -> None: # L- R+\n",
    "        clockwise_ = not clockwise_ if pos == 0 else clockwise_\n",
    "        turns = 1 if clockwise_ else 3\n",
    "        if pos in {0,2}:\n",
    "            face = 'L' if pos == 0 else 'R'\n",
    "            for _ in range(turns):\n",
    "                if pos == 0:\n",
    "                    self._state[face] = self._rot_array_anticlock90(self._state[face])\n",
    "                else:\n",
    "                    self._state[face] = self._rot_array_clock90(self._state[face])\n",
    "        for _ in range(turns): # columns of FUBD\n",
    "            self._state['F'][2][pos], self._state['F'][1][pos], self._state['F'][0][pos], \\\n",
    "            self._state['U'][2][pos], self._state['U'][1][pos], self._state['U'][0][pos], \\\n",
    "            self._state['B'][0][2-pos], self._state['B'][1][2-pos], self._state['B'][2][2-pos], \\\n",
    "            self._state['D'][2][pos], self._state['D'][1][pos], self._state['D'][0][pos] \\\n",
    "            = \\\n",
    "            self._state['D'][2][pos], self._state['D'][1][pos], self._state['D'][0][pos], \\\n",
    "            self._state['F'][2][pos], self._state['F'][1][pos], self._state['F'][0][pos], \\\n",
    "            self._state['U'][2][pos], self._state['U'][1][pos], self._state['U'][0][pos], \\\n",
    "            self._state['B'][0][2-pos], self._state['B'][1][2-pos], self._state['B'][2][2-pos]\n",
    "    def _turn_y(self, pos:int, clockwise_:bool) -> None: # D- U+\n",
    "        clockwise_ = not clockwise_ if pos == 0 else clockwise_\n",
    "        turns = 1 if clockwise_ else 3\n",
    "        if pos in {0,2}:\n",
    "            face = 'D' if pos == 0 else 'U'\n",
    "            for _ in range(turns):\n",
    "                if pos == 0:\n",
    "                    self._state[face] = self._rot_array_anticlock90(self._state[face])\n",
    "                else:\n",
    "                    self._state[face] = self._rot_array_clock90(self._state[face])\n",
    "        for _ in range(turns): # rows LFRB\n",
    "            self._state['L'][2-pos], self._state['F'][2-pos], self._state['R'][2-pos], self._state['B'][2-pos] = \\\n",
    "            self._state['F'][2-pos], self._state['R'][2-pos], self._state['B'][2-pos], self._state['L'][2-pos]\n",
    "    def _turn_z(self, pos:int, clockwise_:bool) -> None: # B- F+\n",
    "        clockwise_ = not clockwise_ if pos == 0 else clockwise_\n",
    "        turns = 1 if clockwise_ else 3\n",
    "        if pos in {0,2}:\n",
    "            face = 'B' if pos == 0 else 'F'\n",
    "            for _ in range(turns):\n",
    "                if pos == 0:\n",
    "                    self._state[face] = self._rot_array_anticlock90(self._state[face])\n",
    "                else:\n",
    "                    self._state[face] = self._rot_array_clock90(self._state[face])\n",
    "        for _ in range(turns): # hardest: rows UD and cols LR\n",
    "            self._state['U'][pos][0], self._state['U'][pos][1], self._state['U'][pos][2], \\\n",
    "            self._state['R'][0][2-pos], self._state['R'][1][2-pos], self._state['R'][2][2-pos], \\\n",
    "            self._state['D'][2-pos][2], self._state['D'][2-pos][1], self._state['D'][2-pos][0], \\\n",
    "            self._state['L'][2][pos], self._state['L'][1][pos], self._state['L'][0][pos] \\\n",
    "            = \\\n",
    "            self._state['L'][2][pos], self._state['L'][1][pos], self._state['L'][0][pos], \\\n",
    "            self._state['U'][pos][0], self._state['U'][pos][1], self._state['U'][pos][2], \\\n",
    "            self._state['R'][0][2-pos], self._state['R'][1][2-pos], self._state['R'][2][2-pos], \\\n",
    "            self._state['D'][2-pos][2], self._state['D'][2-pos][1], self._state['D'][2-pos][0]\n",
    "    def U(self, clockwise:bool=True) -> None:\n",
    "        assert isinstance(clockwise, bool), f'{clockwise} must be a boolean.'\n",
    "        self._turn_y(2, clockwise)\n",
    "    def F(self, clockwise:bool=True) -> None:\n",
    "        assert isinstance(clockwise, bool), f'{clockwise} must be a boolean.'\n",
    "        self._turn_z(2, clockwise)\n",
    "    def L(self, clockwise:bool=True) -> None:\n",
    "        assert isinstance(clockwise, bool), f'{clockwise} must be a boolean.'\n",
    "        self._turn_x(0, clockwise)\n",
    "    def B(self, clockwise:bool=True) -> None:\n",
    "        assert isinstance(clockwise, bool), f'{clockwise} must be a boolean.'\n",
    "        self._turn_z(0, clockwise)\n",
    "    def R(self, clockwise:bool=True) -> None:\n",
    "        assert isinstance(clockwise, bool), f'{clockwise} must be a boolean.'\n",
    "        self._turn_x(2, clockwise)\n",
    "    def D(self, clockwise:bool=True) -> None:\n",
    "        assert isinstance(clockwise, bool), f'{clockwise} must be a boolean.'\n",
    "        self._turn_y(0, clockwise)\n",
    "    def scramble(self) -> None:\n",
    "        pass # import random\n",
    "    def __str__(self) -> str:\n",
    "        pad = ' '*3\n",
    "        null_face = [' '*5 for _ in range(3)]\n",
    "        face = {\n",
    "            key: [' '.join(ColourEnum.to_str[enum] for enum in subrow) for subrow in face] \\\n",
    "            for key,face in self._state.items()\n",
    "        }\n",
    "        return '\\n\\n'.join([\n",
    "            '\\n'.join([pad.join(_tup) for _tup in zip(null_face, face['U'])])\n",
    "            , '\\n'.join([pad.join(_tup) for _tup in zip(face['L'], face['F'], face['R'], face['B'])])\n",
    "            , '\\n'.join([pad.join(_tup) for _tup in zip(null_face, face['D'])])\n",
    "        ]) + '\\n'"
   ]
  },
  {
   "cell_type": "code",
   "execution_count": 2,
   "metadata": {},
   "outputs": [
    {
     "name": "stdout",
     "output_type": "stream",
     "text": [
      "        W W W\n",
      "        W W W\n",
      "        W W W\n",
      "\n",
      "R R R   B B B   O O O   G G G\n",
      "R R R   B B B   O O O   G G G\n",
      "R R R   B B B   O O O   G G G\n",
      "\n",
      "        Y Y Y\n",
      "        Y Y Y\n",
      "        Y Y Y\n",
      "\n"
     ]
    }
   ],
   "source": [
    "r = RubiksCube()\n",
    "print(r)"
   ]
  },
  {
   "cell_type": "code",
   "execution_count": 3,
   "metadata": {},
   "outputs": [
    {
     "name": "stdout",
     "output_type": "stream",
     "text": [
      "        W W W\n",
      "        W W W\n",
      "        R R R\n",
      "\n",
      "R R Y   B B B   W O O   G G G\n",
      "R R Y   B B B   W O O   G G G\n",
      "R R Y   B B B   W O O   G G G\n",
      "\n",
      "        O O O\n",
      "        Y Y Y\n",
      "        Y Y Y\n",
      "\n"
     ]
    }
   ],
   "source": [
    "r.F()\n",
    "print(r)"
   ]
  },
  {
   "cell_type": "code",
   "execution_count": 4,
   "metadata": {},
   "outputs": [
    {
     "name": "stdout",
     "output_type": "stream",
     "text": [
      "        W W W\n",
      "        W W W\n",
      "        W W W\n",
      "\n",
      "R R R   B B B   O O O   G G G\n",
      "R R R   B B B   O O O   G G G\n",
      "R R R   B B B   O O O   G G G\n",
      "\n",
      "        Y Y Y\n",
      "        Y Y Y\n",
      "        Y Y Y\n",
      "\n"
     ]
    }
   ],
   "source": [
    "r.F(False)\n",
    "print(r)"
   ]
  },
  {
   "cell_type": "code",
   "execution_count": 5,
   "metadata": {},
   "outputs": [
    {
     "name": "stdout",
     "output_type": "stream",
     "text": [
      "        O O O\n",
      "        W W W\n",
      "        W W W\n",
      "\n",
      "W R R   B B B   O O Y   G G G\n",
      "W R R   B B B   O O Y   G G G\n",
      "W R R   B B B   O O Y   G G G\n",
      "\n",
      "        Y Y Y\n",
      "        Y Y Y\n",
      "        R R R\n",
      "\n"
     ]
    }
   ],
   "source": [
    "r.B()\n",
    "print(r)"
   ]
  },
  {
   "cell_type": "code",
   "execution_count": 6,
   "metadata": {},
   "outputs": [
    {
     "name": "stdout",
     "output_type": "stream",
     "text": [
      "        W W W\n",
      "        W W W\n",
      "        W W W\n",
      "\n",
      "R R R   B B B   O O O   G G G\n",
      "R R R   B B B   O O O   G G G\n",
      "R R R   B B B   O O O   G G G\n",
      "\n",
      "        Y Y Y\n",
      "        Y Y Y\n",
      "        Y Y Y\n",
      "\n"
     ]
    }
   ],
   "source": [
    "r.B(False)\n",
    "print(r)"
   ]
  },
  {
   "cell_type": "code",
   "execution_count": 7,
   "metadata": {},
   "outputs": [
    {
     "name": "stdout",
     "output_type": "stream",
     "text": [
      "        W W W\n",
      "        W W W\n",
      "        W W W\n",
      "\n",
      "B B B   O O O   G G G   R R R\n",
      "R R R   B B B   O O O   G G G\n",
      "R R R   B B B   O O O   G G G\n",
      "\n",
      "        Y Y Y\n",
      "        Y Y Y\n",
      "        Y Y Y\n",
      "\n"
     ]
    }
   ],
   "source": [
    "r.U()\n",
    "print(r)"
   ]
  },
  {
   "cell_type": "code",
   "execution_count": 8,
   "metadata": {},
   "outputs": [
    {
     "name": "stdout",
     "output_type": "stream",
     "text": [
      "        W W W\n",
      "        W W W\n",
      "        W W W\n",
      "\n",
      "R R R   B B B   O O O   G G G\n",
      "R R R   B B B   O O O   G G G\n",
      "R R R   B B B   O O O   G G G\n",
      "\n",
      "        Y Y Y\n",
      "        Y Y Y\n",
      "        Y Y Y\n",
      "\n"
     ]
    }
   ],
   "source": [
    "r.U(False)\n",
    "print(r)"
   ]
  },
  {
   "cell_type": "code",
   "execution_count": 9,
   "metadata": {},
   "outputs": [
    {
     "name": "stdout",
     "output_type": "stream",
     "text": [
      "        O O O\n",
      "        W W W\n",
      "        W W W\n",
      "\n",
      "W R R   B B B   O O Y   G G G\n",
      "W R R   B B B   O O Y   G G G\n",
      "W R R   B B B   O O Y   G G G\n",
      "\n",
      "        Y Y Y\n",
      "        Y Y Y\n",
      "        R R R\n",
      "\n"
     ]
    }
   ],
   "source": [
    "r.B()\n",
    "print(r)"
   ]
  },
  {
   "cell_type": "code",
   "execution_count": 10,
   "metadata": {},
   "outputs": [
    {
     "name": "stdout",
     "output_type": "stream",
     "text": [
      "        W W W\n",
      "        W W W\n",
      "        W W W\n",
      "\n",
      "R R R   B B B   O O O   G G G\n",
      "R R R   B B B   O O O   G G G\n",
      "R R R   B B B   O O O   G G G\n",
      "\n",
      "        Y Y Y\n",
      "        Y Y Y\n",
      "        Y Y Y\n",
      "\n"
     ]
    }
   ],
   "source": [
    "r.B(False)\n",
    "print(r)"
   ]
  },
  {
   "cell_type": "code",
   "execution_count": 11,
   "metadata": {},
   "outputs": [
    {
     "name": "stdout",
     "output_type": "stream",
     "text": [
      "        G W B\n",
      "        G W B\n",
      "        G W B\n",
      "\n",
      "R R R   W B Y   O O O   W G Y\n",
      "R R R   W B Y   O O O   W G Y\n",
      "R R R   W B Y   O O O   W G Y\n",
      "\n",
      "        B Y G\n",
      "        B Y G\n",
      "        B Y G\n",
      "\n"
     ]
    }
   ],
   "source": [
    "r.R()\n",
    "r.L()\n",
    "print(r)"
   ]
  }
 ],
 "metadata": {
  "kernelspec": {
   "display_name": "base",
   "language": "python",
   "name": "python3"
  },
  "language_info": {
   "codemirror_mode": {
    "name": "ipython",
    "version": 3
   },
   "file_extension": ".py",
   "mimetype": "text/x-python",
   "name": "python",
   "nbconvert_exporter": "python",
   "pygments_lexer": "ipython3",
   "version": "3.11.7"
  }
 },
 "nbformat": 4,
 "nbformat_minor": 2
}
